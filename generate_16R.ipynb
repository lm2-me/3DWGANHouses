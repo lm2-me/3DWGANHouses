{
 "cells": [
  {
   "cell_type": "markdown",
   "id": "3b72ea61",
   "metadata": {},
   "source": [
    "# Generated Geometry with Architecture 16R\n",
    "\n",
    "Through her thesis \"3D Generative Adversarial Networks to Autonomously Generate Building Geometry\", Lisa-Marie Mueller researched how Generative Adversarial Networks can be used to produce building geometry. Through the exploration completed in the thesis, two architectures performed the best. Architecture 16R uses Leaky ReLU in the generator and the critic, uses RMSProp as the optimizer with a fixed learning rate, and implements gradient penalty. The architectures has 10 layers with the following number of channels 96-96-48-48-24-24-12-12-2-2.\n",
    "\n",
    "This notebook loads the weights of the trained network and allows users to generate new geometry using the trained network models. The generated geometry is then visualized in the notebook. \n",
    "\n",
    "Before running this notebook, please make sure tensorflow is installed in your conda environment and that you activated this environment. An env file is included on GitHub."
   ]
  },
  {
   "cell_type": "code",
   "execution_count": null,
   "id": "cceefcb4",
   "metadata": {},
   "outputs": [],
   "source": [
    "#imports and initialize variabless\n",
    "import tensorflow as tf\n",
    "import os\n",
    "import PIL\n",
    "from PIL import Image\n",
    "import math\n",
    "\n",
    "import wganv16R as gan\n",
    "import utilities.ganutilities as util\n",
    "\n",
    "save_location = 'generated/images'\n",
    "generated_matrices = 'generated/generated_matrices'"
   ]
  },
  {
   "cell_type": "code",
   "execution_count": null,
   "id": "ca67e071",
   "metadata": {},
   "outputs": [],
   "source": [
    "#load network weights\n",
    "generator = gan.make_generator_model()\n",
    "discriminator = gan.make_discriminator_model()\n",
    "\n",
    "generator_optimizer = tf.keras.optimizers.legacy.RMSprop(learning_rate=0.00005)\n",
    "discriminator_optimizer = tf.keras.optimizers.legacy.RMSprop(learning_rate=0.00005)\n",
    "\n",
    "checkpoint_dir = 'sample_files/training_checkpoints/16R/ckpt-112'\n",
    "checkpoint = tf.train.Checkpoint(generator_optimizer=generator_optimizer,\n",
    "                                discriminator_optimizer=discriminator_optimizer,\n",
    "                                generator=generator,\n",
    "                                discriminator=discriminator)\n",
    "\n",
    "manager = tf.train.CheckpointManager(checkpoint, checkpoint_dir, max_to_keep = 3)\n",
    "\n",
    "checkpoint.restore(checkpoint_dir)"
   ]
  },
  {
   "cell_type": "code",
   "execution_count": null,
   "id": "16d34da4",
   "metadata": {},
   "outputs": [],
   "source": [
    "#thank you for your patience while this cell runs\n",
    "#optional: change how many samples to generate\n",
    "number_of_samples_to_generate = 4\n",
    "\n",
    "#generate geometry with trained network\n",
    "if number_of_samples_to_generate < 11:\n",
    "    seed = tf.random.normal([number_of_samples_to_generate, 200])\n",
    "    util.save_generated_matrix('16Rsamples', generator, 0, seed)\n",
    "    print(\"SUCCESSFUL: Generated Samples\")\n",
    "else:\n",
    "    print(\"FAILED: value of number_of_samples_to_generate must be less than or equal to 10\")"
   ]
  },
  {
   "cell_type": "code",
   "execution_count": null,
   "id": "fc118417",
   "metadata": {
    "scrolled": true
   },
   "outputs": [],
   "source": [
    "#thank you for your patience while this cell runs\n",
    "#create and save images of generated matrices\n",
    "matrices_location = generated_matrices + '/16Rsamples'\n",
    "util.visualize_files_from_folder(matrices_location, save_location, '16Rsamples')"
   ]
  },
  {
   "cell_type": "code",
   "execution_count": null,
   "id": "37a8daa1",
   "metadata": {},
   "outputs": [],
   "source": [
    "#show saved images of geometry\n",
    "images = []\n",
    "image_path = save_location + '/16Rsamples'\n",
    "all_files = [f for f in os.listdir(image_path) if os.path.isfile(os.path.join(image_path, f))]\n",
    "\n",
    "images = [Image.open(image_path + '/' + x) for x in all_files]\n",
    "\n",
    "new_im = Image.new('RGB', (1000, 330 * (1 + math.ceil(len(all_files)/3))), (255, 255, 255))\n",
    "\n",
    "for i, im in enumerate(images):\n",
    "    width, height = im.size\n",
    "    target_width = 330 #px\n",
    "    ratio = width / target_width\n",
    "    new_height = int(height // ratio)\n",
    "\n",
    "    im_resized = im.resize((target_width, new_height))\n",
    "    \n",
    "    new_im.paste(im_resized, (im_resized.size[0] * (i - (math.floor(i / 3) * 3)), math.floor(i / 3) * im_resized.size[1]))\n",
    "\n",
    "display(new_im)"
   ]
  },
  {
   "cell_type": "code",
   "execution_count": null,
   "id": "d97dc599",
   "metadata": {},
   "outputs": [],
   "source": []
  }
 ],
 "metadata": {
  "kernelspec": {
   "display_name": "Python 3 (ipykernel)",
   "language": "python",
   "name": "python3"
  },
  "language_info": {
   "codemirror_mode": {
    "name": "ipython",
    "version": 3
   },
   "file_extension": ".py",
   "mimetype": "text/x-python",
   "name": "python",
   "nbconvert_exporter": "python",
   "pygments_lexer": "ipython3",
   "version": "3.8.16"
  }
 },
 "nbformat": 4,
 "nbformat_minor": 5
}
